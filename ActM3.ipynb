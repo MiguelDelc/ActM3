{
  "nbformat": 4,
  "nbformat_minor": 0,
  "metadata": {
    "colab": {
      "provenance": []
    },
    "kernelspec": {
      "name": "python3",
      "display_name": "Python 3"
    },
    "language_info": {
      "name": "python"
    }
  },
  "cells": [
    {
      "cell_type": "code",
      "execution_count": null,
      "metadata": {
        "colab": {
          "base_uri": "https://localhost:8080/"
        },
        "id": "H4NxTeZcMlYE",
        "outputId": "74dd9038-8311-4219-cb15-60d50de10ef8"
      },
      "outputs": [
        {
          "output_type": "stream",
          "name": "stdout",
          "text": [
            "Collecting simpy\n",
            "  Downloading simpy-4.1.1-py3-none-any.whl (27 kB)\n",
            "Installing collected packages: simpy\n",
            "Successfully installed simpy-4.1.1\n"
          ]
        }
      ],
      "source": [
        "!pip install simpy\n"
      ]
    },
    {
      "cell_type": "code",
      "source": [
        "import time\n",
        "import random\n",
        "import matplotlib.pyplot as plt\n",
        "\n",
        "class Vehicle:\n",
        "    def __init__(self, vehicle_id):\n",
        "        self.id = vehicle_id\n",
        "        self.arrival_time = None\n",
        "        self.x = 0\n",
        "        self.y = 0\n",
        "\n",
        "    def send_arrival_time(self, estimated_time):\n",
        "        self.arrival_time = estimated_time\n",
        "\n",
        "class TrafficLight:\n",
        "    def __init__(self, light_id, x, y):\n",
        "        self.id = light_id\n",
        "        self.state = \"yellow\"\n",
        "        self.nearby_vehicle = None\n",
        "        self.x = x\n",
        "        self.y = y\n",
        "\n",
        "    def change_state(self, new_state):\n",
        "        self.state = new_state\n",
        "\n",
        "    def set_light_program(self, vehicle):\n",
        "        # Logic to set light program based on the proximity of vehicles\n",
        "        if vehicle.arrival_time < 5:\n",
        "            self.change_state(\"green\")\n",
        "        else:\n",
        "            self.change_state(\"red\")\n",
        "\n",
        "    def send_light_signal(self):\n",
        "        return self.state\n",
        "\n",
        "class Intersection:\n",
        "    def __init__(self):\n",
        "        self.traffic_lights = [TrafficLight(\"A\", -1, 0), TrafficLight(\"B\", 1, 0), TrafficLight(\"C\", 0, -1), TrafficLight(\"D\", 0, 1)]\n",
        "        self.vehicles = []\n",
        "\n",
        "    def update_traffic_lights(self):\n",
        "        for light in self.traffic_lights:\n",
        "            if light.nearby_vehicle:\n",
        "                light.set_light_program(light.nearby_vehicle)\n",
        "            else:\n",
        "                light.change_state(\"yellow\")  # Cambio a luz amarilla si no hay vehículo\n",
        "\n",
        "    def handle_vehicle_arrival(self, vehicle):\n",
        "        closest_light = random.choice(self.traffic_lights)\n",
        "        closest_light.nearby_vehicle = vehicle\n",
        "\n",
        "    def handle_vehicle_departure(self, vehicle):\n",
        "        for light in self.traffic_lights:\n",
        "            if light.nearby_vehicle == vehicle:\n",
        "                light.nearby_vehicle = None\n",
        "\n",
        "# Inicializamos la visualización\n",
        "def plot_intersection(vehicles, lights):\n",
        "    plt.xlim(-2, 2)\n",
        "    plt.ylim(-2, 2)\n",
        "    plt.gca().set_aspect('equal', adjustable='box')\n",
        "    plt.grid()\n",
        "\n",
        "    for light in lights:\n",
        "        color = 'green' if light.state == 'green' else 'yellow' if light.state == 'yellow' else 'red'\n",
        "        plt.scatter(light.x, light.y, color=color, s=100, edgecolor='black')\n",
        "        plt.text(light.x, light.y, light.id, ha='center', va='center', fontsize=12)\n",
        "\n",
        "    for vehicle in vehicles:\n",
        "        plt.scatter(vehicle.x, vehicle.y, color='blue', s=50, edgecolor='black')\n",
        "        plt.text(vehicle.x, vehicle.y, str(vehicle.id), ha='center', va='center', fontsize=10)\n",
        "\n",
        "    plt.show()\n",
        "\n",
        "# Simulación\n",
        "intersection = Intersection()\n",
        "\n",
        "# Ciclo de simulación\n",
        "while True:\n",
        "    # Simulamos la llegada de un vehículo cada cierto tiempo\n",
        "    time.sleep(random.randint(1, 5))\n",
        "    vehicle = Vehicle(random.randint(1, 100))\n",
        "    vehicle.send_arrival_time(random.randint(1, 10))\n",
        "    vehicle.x = random.uniform(-1.5, 1.5)\n",
        "    vehicle.y = random.uniform(-1.5, 1.5)\n",
        "    intersection.handle_vehicle_arrival(vehicle)\n",
        "    print(f\"Vehicle {vehicle.id} approaching intersection with arrival time {vehicle.arrival_time}\")\n",
        "\n",
        "    # Actualizamos el estado de los semáforos\n",
        "    intersection.update_traffic_lights()\n",
        "\n",
        "    # Visualizamos la intersección\n",
        "    plot_intersection(intersection.vehicles, intersection.traffic_lights)\n",
        "\n",
        "    # Simulamos el movimiento de los vehículos\n",
        "    for _ in range(10):\n",
        "        for vehicle in intersection.vehicles:\n",
        "            vehicle.x += random.uniform(-0.05, 0.05)\n",
        "            vehicle.y += random.uniform(-0.05, 0.05)\n",
        "\n",
        "    # Simulamos la salida de un vehículo cada cierto tiempo\n",
        "    time.sleep(random.randint(1, 5))\n",
        "    intersection.handle_vehicle_departure(vehicle)\n",
        "    print(f\"Vehicle {vehicle.id} left intersection\")\n"
      ],
      "metadata": {
        "id": "bm2N14-3MtS_"
      },
      "execution_count": null,
      "outputs": []
    }
  ]
}